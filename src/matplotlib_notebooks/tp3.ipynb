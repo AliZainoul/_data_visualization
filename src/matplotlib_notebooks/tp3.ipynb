{
 "cells": [
  {
   "cell_type": "code",
   "execution_count": null,
   "id": "d498d856",
   "metadata": {},
   "outputs": [],
   "source": [
    "# TP 3 — Daily Temperature Histogram\n",
    "\n",
    "# 1. Import the necessary libraries\n",
    "import pandas as pd\n",
    "import matplotlib.pyplot as plt\n",
    "\n",
    "# 2. Load CSV file\n",
    "df = pd.read_csv(\"../../data/temperatures.csv\")\n",
    "\n",
    "# 3. Create a bar chart with 'day' on x-axis and 'temperature' on y-axis, bars colored green\n",
    "plt.bar(df['day'], df['temperature'], color='green')  \n",
    "# Documentation: https://matplotlib.org/stable/api/_as_gen/matplotlib.pyplot.bar.html\n",
    "\n",
    "# Set the x-axis label\n",
    "plt.xlabel(\"Day\")  \n",
    "# Documentation: https://matplotlib.org/stable/api/_as_gen/matplotlib.pyplot.xlabel.html\n",
    "\n",
    "# Set the y-axis label\n",
    "plt.ylabel(\"Temperature (°C)\")  \n",
    "# Documentation: https://matplotlib.org/stable/api/_as_gen/matplotlib.pyplot.ylabel.html\n",
    "\n",
    "# Set the title of the plot\n",
    "plt.title(\"Weekly Temperatures\")  \n",
    "# Documentation: https://matplotlib.org/stable/api/_as_gen/matplotlib.pyplot.title.html\n",
    "\n",
    "# Rotate x-axis labels 45 degrees for better readability\n",
    "plt.xticks(rotation=45)  \n",
    "# Documentation: https://matplotlib.org/stable/api/_as_gen/matplotlib.pyplot.xticks.html\n",
    "\n",
    "# Display the plot\n",
    "plt.show()  \n",
    "# Documentation: https://matplotlib.org/stable/api/_as_gen/matplotlib.pyplot.show.html\n",
    "\n",
    "\n",
    "# ---- Explanations ----\n",
    "\n",
    "# 1. plt.bar():\n",
    "#    - Creates a bar chart representing temperatures as vertical bars.\n",
    "#    - The color='green' parameter customizes the bar color.\n",
    "\n",
    "# 2. plt.xticks(rotation=45):\n",
    "#    - Rotates x-axis labels by 45 degrees to improve label visibility.\n",
    "\n",
    "# 3. Labels and title:\n",
    "#    - Provide context and make the chart easier to understand.\n",
    "\n",
    "# 4. plt.show():\n",
    "#    - Displays the created bar chart.\n"
   ]
  }
 ],
 "metadata": {
  "kernelspec": {
   "display_name": ".venv",
   "language": "python",
   "name": "python3"
  },
  "language_info": {
   "name": "python",
   "version": "3.12.4"
  }
 },
 "nbformat": 4,
 "nbformat_minor": 5
}
